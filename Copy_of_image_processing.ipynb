{
  "nbformat": 4,
  "nbformat_minor": 0,
  "metadata": {
    "colab": {
      "provenance": [],
      "mount_file_id": "1HdO9YaHhYACjhSNlHXbHWoTRZhBNR0Mj",
      "authorship_tag": "ABX9TyMf12W+79EaANDtSuUrqd8Y",
      "include_colab_link": true
    },
    "kernelspec": {
      "name": "python3",
      "display_name": "Python 3"
    },
    "language_info": {
      "name": "python"
    }
  },
  "cells": [
    {
      "cell_type": "markdown",
      "metadata": {
        "id": "view-in-github",
        "colab_type": "text"
      },
      "source": [
        "<a href=\"https://colab.research.google.com/github/Habtamuyihun561/OnlinAuction/blob/main/Copy_of_image_processing.ipynb\" target=\"_parent\"><img src=\"https://colab.research.google.com/assets/colab-badge.svg\" alt=\"Open In Colab\"/></a>"
      ]
    },
    {
      "cell_type": "markdown",
      "source": [
        "**Image Procesiing in Python**\n",
        "**Undesrstanding digital images for python processing**\n",
        "1. What really mean digital images\n",
        "* are arrays of numbers or pixes and each pixes are a number. So, it is a numpy array.\n",
        "* for color images at each pixel contains red, green, blue (three color values).\n",
        "* in python we can think of this as four values (red, green, blue and alpha). alpha, which describes the transparency of your image, how transparent is the image.\n",
        "* In addition to RGB coolor space colors can be also defines in HSL color sapce(Hue, Saturation, Lummminance)\n",
        "**Opening images in python using various libraries**\n"
      ],
      "metadata": {
        "id": "v60G6qD8Y3jH"
      }
    },
    {
      "cell_type": "markdown",
      "source": [
        "unit8, unsigned integer of 8 bit, whic means that the values of each colors in each pixesl goes from 0 t0 2^8=255."
      ],
      "metadata": {
        "id": "dqz6TcpkmbWw"
      }
    },
    {
      "cell_type": "code",
      "execution_count": null,
      "metadata": {
        "id": "x21EoMSmYhZR"
      },
      "outputs": [],
      "source": [
        "from skimage import io\n",
        "my_image = io.imread(r\"/content/drive/MyDrive/Colab Notebooks/color_image.jpg\")\n",
        "print(my_image)\n",
        "#min and max values of the image(it is numpy array unit8 from 0 to 255)\n",
        "#print(my_image.min(), my_image.max())\n",
        "# as images are numpy arrays we can d mathematical operation and also slicing\n",
        "print(\"this is the reduced values\")\n",
        "#my_image=my_image*0.5\n",
        "#print(my_image)\n",
        "#slicing of an array(an image)\n",
        "my_image[10:200, 10:200, :] = [255, 0, 0]\n",
        "print(my_image)\n",
        "plt.imshow(my_image)\n",
        "\n",
        "\n"
      ]
    },
    {
      "cell_type": "code",
      "source": [
        "# importing importan librieis used for creating images\n",
        "import numpy as np # a library use for array manipulation\n",
        "from matplotlib import pyplot as plt\n",
        "from skimage import img_as_float\n",
        "#creating random iamge\n",
        "artificial_image=np.random.random([500,500])\n",
        "#dispalying and image\n",
        "plt.imshow(artificial_image)\n",
        "# printing the min and max values of the image(it is a numpy array)\n",
        "print(artificial_image.min(),artificial_image.max())\n",
        "#change types (frpm unit8 to flot or unit16....and vis versa, down scaling\n",
        "# may cause loosing of information,as 16bit contains a lot of imformation than 8bit)\n",
        "my_converted_float_image= img_as_float(my_image)\n",
        "print(my_converted_float_image.min(), my_converted_float_image.max())\n"
      ],
      "metadata": {
        "id": "-uYpny--n2Zf"
      },
      "execution_count": null,
      "outputs": []
    },
    {
      "cell_type": "markdown",
      "source": [
        "**Reading images in python**\n",
        "\n",
        "*How do we read or load images in python?"
      ],
      "metadata": {
        "id": "_5OVuEWs1ReM"
      }
    },
    {
      "cell_type": "code",
      "source": [
        "# libraries there are many way of 2D, 3D or multidimensional data loadong mechanisms\n",
        "# Four main liberies tha used to handelin or loading image processing are the folllowing libraries(pillo, matplotlib,skimage and openCv, (image formats:CZI,OMETIFF,DICOM,)\n",
        "\n",
        "#pillow, image manipulation(crop, resize, process images) library\n",
        "# pip install pillow to install it\n",
        "from PIL import Image\n",
        "img=Image.open(\"/content/drive/MyDrive/Colab Notebooks/color_image.jpg\")\n",
        "# when we open  an image using a pillow library the image is not a numpy array\n",
        "print(type(img))\n",
        "# But we can do image processing other than amthematical operations (done by numpy library)\n",
        "img.show()\n",
        "#checking image format\n",
        "print(img.format)\n",
        "#converting pillow images into numpy arrays\n",
        "img1=np.asarray(img)\n",
        "#print(img1)\n",
        "# load an image using matplotlib\n",
        "# Matplotlib : it is a plloting library\n",
        "#pyplot: is a library in matplotlib package used to plot graph and aother visualizations\n",
        "# pip install matplotlib\n",
        "import matplotlib.image as mpimg\n",
        "import matplotlib.pyplot as plt\n",
        "img=mpimg.imread(\"/content/drive/MyDrive/Colab Notebooks/color_image.jpg\")\n",
        "#unlike pillow here the image is read as a numpy array\n",
        "print(type(img))\n",
        "#image size\n",
        "print(img.shape)\n",
        "#display an image\n",
        "plt.imshow(img)\n",
        "# to add color bar along side the displayed image\n",
        "plt.colorbar()\n",
        "\n",
        "\n",
        "\n",
        "\n"
      ],
      "metadata": {
        "id": "nditgvOF1QW9"
      },
      "execution_count": null,
      "outputs": []
    },
    {
      "cell_type": "code",
      "source": [
        "####################################\n",
        "#pip install sckit-image\n",
        " # sckit-image is a librarary and used for image segmentation, geometric transformation,\n",
        "    # color space manipulation and we can do analysis, filitering,\n",
        "    # feature detection\n",
        "\n",
        "from skimage import io, img_as_float, img_as_ubyte\n",
        "image=io.imread(\"/content/drive/MyDrive/Colab Notebooks/color_image.jpg\")\n",
        "#by nature the image is converted into numpy array\n",
        "print(type(image))\n",
        "#plt.imshow(image)\n",
        "#print(image)\n",
        "#converting image types\n",
        "image_float= img_as_float(image)\n",
        "print(image_float)\n",
        "#optional type conversion\n",
        "#image=io.imread(\"/content/drive/MyDrive/Colab Notebooks/color_image.jpg\").astype(np.float16)\n",
        "print(image)\n",
        "\n"
      ],
      "metadata": {
        "id": "p4ZcNr-1-BFn"
      },
      "execution_count": null,
      "outputs": []
    },
    {
      "cell_type": "code",
      "source": [
        "# openCv:  it is a libray of programming functions that are mainly aimed at computer vision\n",
        "# used for face detection, OCR(optical character recognintion), motion detection,handwritngs , als for segmentation includin artificial netework including deep learning\n",
        "# redimentary tasks tha can be easily performed used by pillow\n",
        "#pip install opencv-python\n",
        "import cv2\n",
        "from google.colab.patches import cv2_imshow\n",
        "#dedicated for image processing\n",
        "# we can also read an iimage using cv2 as\n",
        "img=cv2.imread(\"/content/drive/MyDrive/Colab Notebooks/color_image.jpg\")\n",
        "grey_image=cv2.imread(\"/content/drive/MyDrive/Colab Notebooks/color_image.jpg\",0)\n",
        "color_image=cv2.imread(\"/content/drive/MyDrive/Colab Notebooks/color_image.jpg\",1)\n",
        "#plt.imshow(img)\n",
        "#cv2.imshow(\"grey image\",grey_image)\n",
        "# maintiaing the output window until the specified milisecond by the following way\n",
        "#cv2.waitKey(0)\n",
        "#cv2.destroyAllWindows()\n",
        "plt.imshow(color_image)#show the inverted color(BRG)\n",
        "#we can invert it into the original one\n",
        "plt.imshow(cv2.cvtColor(color_image, cv2.COLOR_BGR2RGB), cmap=\"gray\")\n",
        "plt.show()\n",
        "cv2_imshow( grey_image)\n",
        "cv2_imshow(color_image)\n",
        "\n"
      ],
      "metadata": {
        "id": "-mBSP7BXCRy4"
      },
      "execution_count": null,
      "outputs": []
    },
    {
      "cell_type": "code",
      "source": [
        "#pip install czifile\n",
        "!pip install czifile\n",
        "#OME-TIFF\n",
        "#pip install apeer-ometiff-library\n"
      ],
      "metadata": {
        "id": "LcSdkavHOcax"
      },
      "execution_count": null,
      "outputs": []
    },
    {
      "cell_type": "code",
      "source": [
        "!pip install --upgrade pip"
      ],
      "metadata": {
        "id": "zFD3-7mjRKLg"
      },
      "execution_count": null,
      "outputs": []
    },
    {
      "cell_type": "code",
      "source": [
        "# what idf we need to read a bunch of images in folder or sub folders\n",
        "#we will use glob\n",
        "#we can do image processing in each image\n",
        "import cv2\n",
        "import glob\n",
        "from matplotlib import pyplot as plt\n",
        "path=  \"/content/drive/MyDrive/Colab Notebooks/training_image/*\"\n",
        "#exploering images inside the specified folder\n",
        "for file in glob.glob(path):\n",
        "  #print(file)\n",
        "  #Use cv2 to load each image within the loop:\n",
        "  img1=cv2.imread(file)\n",
        "  #Convert from BGR to RGB for compatibility with Matplotlib:\n",
        "  plt.imshow(cv2.cvtColor(img1, cv2.COLOR_BGR2RGB), cmap=\"gray\")\n",
        "  #. Displaying with Matplotlib:\n",
        "  plt.imshow(img1)\n",
        "\n",
        "  #plt.imshow(cv2.cvtColor(img1, cv2.COLOR_BGR2RGB))  # Convert to RGB\n",
        "\n",
        "  #print(img1)\n",
        "  #plt.imshow(cv2.cvtColor(img1, cv2.COLOR_BGR2RGB), cmap=\"gray\")\n",
        "  #plt.imshow(img1)\n",
        "  #cv2_imshow( img1)\n"
      ],
      "metadata": {
        "id": "yVwUEPdKUvvM"
      },
      "execution_count": null,
      "outputs": []
    },
    {
      "cell_type": "code",
      "source": [
        "from google.colab.patches import cv2_imshow\n",
        "path = \"/content/drive/MyDrive/Colab Notebooks/training_image/*\"\n",
        "\n",
        "for file in glob.glob(path):\n",
        "    img1 = cv2.imread(file)\n",
        "\n",
        "    # Option 1: Display using Matplotlib (with BGR to RGB conversion)\n",
        "    plt.imshow(cv2.cvtColor(img1, cv2.COLOR_BGR2RGB))\n",
        "    plt.show()\n",
        "\n",
        "    # Option 2: Direct display with cv2_imshow\n",
        "    cv2_imshow(img1)\n"
      ],
      "metadata": {
        "id": "nYiOMzZWZ_Y7"
      },
      "execution_count": null,
      "outputs": []
    },
    {
      "cell_type": "markdown",
      "source": [
        "**Image Processing Using Pillow in Python**"
      ],
      "metadata": {
        "id": "hjwc7U-Eb4gK"
      }
    },
    {
      "cell_type": "code",
      "source": [
        "# Pillow  can be used for basing image processing like for croping, rotatin...\n",
        "# Do change the size of an image, cropping, rotating , pasting, fliping, transporing color space, automating the tasks\n",
        "\n",
        "from PIL import Image\n",
        "img=Image.open(\"/content/drive/MyDrive/Colab Notebooks/color_image.jpg\")\n",
        "print(img)\n",
        "#checking the image type\n",
        "print(type(img))\n",
        "#we can do find image foramt, mode,size\n",
        "print(img.format)\n",
        "print(img.mode)\n",
        "print(img.size)\n",
        "# resizing an image(incresing the soze or decreasing the size)\n",
        "resized_image = img.resize((200, 300))\n",
        "resized_image.save(\"/content/drive/MyDrive/Colab Notebooks/resized_image.jpg\")\n",
        "#how to resize the image by keeping its aspect ration\n",
        " #using the following func\n",
        "resized_img=img.thumbnail((200,300))\n",
        "img.save(\"/content/drive/MyDrive/Colab Notebooks/resized_thumbnail_image.jpg\")\n",
        "print(resized_img)\n",
        "\n",
        "\n",
        "\n",
        "\n",
        "\n",
        "\n"
      ],
      "metadata": {
        "colab": {
          "base_uri": "https://localhost:8080/"
        },
        "id": "LyRRddWmcSeD",
        "outputId": "9a895c07-9008-4dc9-b627-5dfc69d40e12"
      },
      "execution_count": null,
      "outputs": [
        {
          "output_type": "stream",
          "name": "stdout",
          "text": [
            "<PIL.JpegImagePlugin.JpegImageFile image mode=RGB size=800x434 at 0x7D50F3D00CD0>\n",
            "<class 'PIL.JpegImagePlugin.JpegImageFile'>\n",
            "JPEG\n",
            "RGB\n",
            "(800, 434)\n",
            "None\n"
          ]
        }
      ]
    },
    {
      "cell_type": "code",
      "source": [
        "#croping images\n",
        "cropped_img=img.crop((0,0,300,300))\n",
        "cropped_img.save(\"/content/drive/MyDrive/Colab Notebooks/cropped_image.jpg\")"
      ],
      "metadata": {
        "id": "dCDEov5JMWrN"
      },
      "execution_count": null,
      "outputs": []
    },
    {
      "cell_type": "code",
      "source": [
        "#copy and paste images\n",
        "print(img.size)\n",
        "img2=Image.open(\"/content/drive/MyDrive/Colab Notebooks/training_image/29-scientistsid.jpg\")\n",
        "print(img2.size)\n",
        "img1=Image.open(\"/content/drive/MyDrive/Colab Notebooks/training_image/OIP.jpg\")\n",
        "print(img1.size)\n",
        "img1.thumbnail(( 100,100))\n",
        "img1_copy=img1.copy()\n",
        "img1_copy.paste(img2,(50,50))\n",
        "img1.save(\"/content/drive/MyDrive/Colab Notebooks/training_image/copied_image.jpg\")\n",
        "\n"
      ],
      "metadata": {
        "colab": {
          "base_uri": "https://localhost:8080/"
        },
        "id": "yqYnUWcHMjvS",
        "outputId": "0c3d88bd-2c19-43c9-fff6-7bf32e42acb7"
      },
      "execution_count": null,
      "outputs": [
        {
          "output_type": "stream",
          "name": "stdout",
          "text": [
            "(200, 109)\n",
            "(800, 434)\n",
            "(474, 355)\n"
          ]
        }
      ]
    },
    {
      "cell_type": "code",
      "source": [
        "#geometric transformations in python, like rotation\n",
        "img1=Image.open(\"/content/drive/MyDrive/Colab Notebooks/training_image/OIP.jpg\")\n",
        "img90=img1.rotate(90, expand=True)#roatating by preserving the pixel values of the image\n",
        "img90.save(\"/content/drive/MyDrive/Colab Notebooks/training_image/rotated.jpg\")\n",
        "#fliping an image\n",
        "img12=Image.open(\"/content/drive/MyDrive/Colab Notebooks/training_image/monkey.jpg\")\n",
        "img_flip=img12.transpose(Image.FLIP_LEFT_RIGHT)\n",
        "img_flip.save(\"/content/drive/MyDrive/Colab Notebooks/training_image/flipped.jpg\")\n",
        "img_flippe2=img12.transpose(Image.FLIP_TOP_BOTTOM)\n",
        "img_flippe2.save(\"/content/drive/MyDrive/Colab Notebooks/training_image/top_down.jpg\")\n",
        "\n",
        "\n"
      ],
      "metadata": {
        "id": "tT8Y7kJ2QLBP"
      },
      "execution_count": null,
      "outputs": []
    },
    {
      "cell_type": "code",
      "source": [
        "#how we change images between the color spaces\n",
        "image=Image.open(\"/content/drive/MyDrive/Colab Notebooks/training_image/monkey.jpg\")\n",
        "grey_image=image.convert(\"L\")#conver to grey level image\n",
        "print(grey_image)\n",
        "grey_image.save(\"/content/drive/MyDrive/Colab Notebooks/training_image/monkey_grey_image.jpg\")\n"
      ],
      "metadata": {
        "colab": {
          "base_uri": "https://localhost:8080/"
        },
        "id": "IoFJoT5bTIUb",
        "outputId": "d7363f0c-ad5f-483e-a746-a4b9da65768c"
      },
      "execution_count": null,
      "outputs": [
        {
          "output_type": "stream",
          "name": "stdout",
          "text": [
            "<PIL.Image.Image image mode=L size=418x334 at 0x7D50CF2EF730>\n"
          ]
        }
      ]
    },
    {
      "cell_type": "code",
      "source": [
        "#automating  tasks in image processing> like 1000 of image\n",
        "from PIL import Image\n",
        "import glob\n",
        "path = \"/content/drive/MyDrive/Colab Notebooks/training_image/*\"\n",
        "for file in glob.glob(path):\n",
        "  print(file)\n",
        "  a=Image.open(file)\n",
        "  rotatated45=a.rotate(45, expand=True)\n",
        "  rotatated45.save(file+\"_rotated4.png\"),\"PNG\"\n",
        "\n"
      ],
      "metadata": {
        "id": "AM1bNdxcUFbu"
      },
      "execution_count": null,
      "outputs": []
    },
    {
      "cell_type": "markdown",
      "source": [
        " **Image processing using scipy in Python**"
      ],
      "metadata": {
        "id": "-EofZaCpV4hi"
      }
    },
    {
      "cell_type": "code",
      "source": [
        "# Image processing using Scipy, part of numpy stack\n",
        "# contains linear algebra, FFT,\n",
        "from scipy import misc # miselaneous\n",
        "#img=misc.imread(\"/content/drive/MyDrive/Colab Notebooks/training_image/monkey.jpg\")\n",
        "#print(type(img))\n",
        "from skimage import io, img_as_ubyte\n",
        "img=img_as_ubyte(io.imread(\"/content/drive/MyDrive/Colab Notebooks/training_image/monkey.jpg\", as_gray=False))\n",
        "#print(img.shape, img.dtype)# size of the image and data type\n",
        "#print(img[10:15, 20:25])\n",
        "#grey_mean=img.mean()\n",
        "#grey_max=img.max()\n",
        "#grey_min=img.min()\n",
        "#print(\"Mean, Max na dMIn values are:\", grey_mean, grey_max, grey_min)\n",
        "\n",
        "\n",
        "\n",
        "\n"
      ],
      "metadata": {
        "id": "8NXVs7ZZV7km"
      },
      "execution_count": null,
      "outputs": []
    },
    {
      "cell_type": "markdown",
      "source": [
        "Image filtering using basic filtering techniques"
      ],
      "metadata": {
        "id": "9c-2kDFigV_y"
      }
    },
    {
      "cell_type": "code",
      "source": [
        "from scipy import ndimage\n",
        "from matplotlib import pyplot as plt\n",
        "image= Image.open(\"/content/drive/MyDrive/Colab Notebooks/training_image/monkey.jpg\")\n",
        "image2= Image.open(\"/content/drive/MyDrive/Colab Notebooks/training_image/OIP (1).jpg\")\n",
        "print(image)\n",
        "rotated= ndimage.rotate(image, 45, reshape=False)\n",
        "#plt.imshow(rotated)\n",
        "# filtering images\n",
        "# 1. uniform filter which is blurring filter\n",
        "uniform_filter=ndimage.uniform_filter(image, size=9)\n",
        "#plt.imshow(uniform_filter)\n",
        "# gaussian filter whcih smooths the noise if any on the image , it does not preserve edges\n",
        "gaussian_filter=ndimage.gaussian_filter(image, sigma=9) # sigma is the amoun of filter that you are going tomapply\n",
        "#plt.imshow(gaussian_filter)\n",
        "# meadian filter is better as it preserves the edge of an image\n",
        "median_filter=ndimage.median_filter(image, 9)\n",
        "#plt.imshow(median_filter)\n",
        "\n",
        "# edge detection algorithm called sobel filter\n",
        "sobel_filter=ndimage.sobel(image2)\n",
        "plt.imshow(sobel_filter)\n",
        "\n",
        "\n"
      ],
      "metadata": {
        "id": "7Esi4xsZcqje"
      },
      "execution_count": null,
      "outputs": []
    },
    {
      "cell_type": "markdown",
      "source": [
        "**- Introduction to image processing using scikit-image in Python**"
      ],
      "metadata": {
        "id": "PyFSlI2djdqw"
      }
    },
    {
      "cell_type": "code",
      "source": [
        "from importlib import import_module\n",
        "from skimage import io\n",
        "from matplotlib import pyplot as plt\n",
        "image= io.imread(\"/content/drive/MyDrive/Colab Notebooks/training_image/monkey.jpg\", as_gray=True)\n",
        "#print(image)\n",
        "# rescaling an imag\n",
        "from skimage.transform import rescale, resize, downscale_local_mean\n",
        "rescaled_image=rescale(image,1.0/4.0, anti_aliasing=True)#  by how much you scale and to minimize grid changing\n",
        "#plt.imshow(rescaled_image)\n",
        "# reisizing\n",
        "resized_image=resize(image,(100,100), anti_aliasing=True)#  by how much you scale and to minimize grid changing\n",
        "#plt.imshow(resized_image)\n",
        "#downscaling\n",
        "down_scaled_image=downscale_local_mean(image,(4,3))#  by how much you scale and to minimize grid changing\n",
        "plt.imshow(down_scaled_image,)\n",
        "\n",
        "\n"
      ],
      "metadata": {
        "id": "8QPqcFUsjyRy"
      },
      "execution_count": null,
      "outputs": []
    },
    {
      "cell_type": "markdown",
      "source": [
        "**Edge detection and deconvolution**"
      ],
      "metadata": {
        "id": "BWhDLU2uXlCH"
      }
    },
    {
      "cell_type": "code",
      "source": [
        "from importlib import import_module\n",
        "from skimage import io\n",
        "from matplotlib import pyplot as plt\n",
        "image= io.imread(\"/content/drive/MyDrive/Colab Notebooks/training_image/OIP (1).jpg\", as_gray=True)\n",
        "#print(image.shape)\n",
        "from skimage.filters import roberts, sobel, scharr, prewitt\n",
        "edge_roberts= roberts(image)\n",
        "edge_sobel= sobel(image)\n",
        "edge_scharr= scharr(image)\n",
        "edge_prewitt= prewitt(image)\n",
        "fig, axes= plt.subplots(nrows=2,ncols=2, sharex=True,sharey=True,figsize=(8,8))\n",
        "ax=axes.ravel()\n",
        "#ax[0].imshow(image, cmap=plt.cm.gray)\n",
        "#ax[0].set_title(\"original image\")\n",
        "#ax[1].imshow(edge_roberts, cmap=plt.cm.gray)\n",
        "#ax[1].set_title(\"roberts image\")\n",
        "#ax[2].imshow(edge_sobel, cmap=plt.cm.gray)\n",
        "#ax[2].set_title(\"sobel image\")\n",
        "#ax[3].imshow(edge_prewitt, cmap=plt.cm.gray)\n",
        "#ax[3].set_title(\"prewitt image\")\n",
        "for a in ax:\n",
        "  a.axis('off')\n",
        "plt.tight_layout()\n",
        "plt.show()\n",
        "#plt.imshow(edge_roberts)\n",
        "\n",
        "#canny filter whic differ from the above three filter sa it found in the skimage  features module not in the filter module\n",
        "# the output of canney filter is the binary image\n",
        "from skimage.feature import canny # can does different operations like edge detection, noise reduction,gradiant calculation, edge tracking\n",
        "edge_canny= canny(image, sigma=1) # sigma determines the number of edges being identified\n",
        "#plt.imshow(edge_canny)\n",
        "\n",
        "# Deconvolution on images,\n",
        "from skimage import restoration\n",
        "import numpy as np\n",
        "from matplotlib import pyplot as plt\n",
        "#print(image.shape)\n",
        "psf=np.ones((3,3))/9 # creating 3 by 3 matrix with  nine ones and not  want to increse the energy of the image\n",
        "dconvoled_image, _= restoration.unsupervised_wiener(image, psf)\n",
        "#plt.imsave(\"/content/drive/MyDrive/Colab Notebooks/training_image/deconvolute.jpg\", dconvoled_image, cmap=\"gray\")\n",
        "#plt.imsave(\"/content/drive/MyDrive/Colab Notebooks/training_image/deconvolute.jpg\", dconvoled_image, cmap=\"gray\")\n",
        "# real world scenario an introduction to the wound healing assay using live cell microscopy\n",
        "\n",
        "\n"
      ],
      "metadata": {
        "id": "X8pAkAZjoHPV"
      },
      "execution_count": null,
      "outputs": []
    },
    {
      "cell_type": "markdown",
      "source": [],
      "metadata": {
        "id": "uRC5DXHt67hT"
      }
    },
    {
      "cell_type": "markdown",
      "source": [
        "** Real world scenario an introduction to the wound healing assay using live cell microscopy**"
      ],
      "metadata": {
        "id": "ay9uN6xc6_Ag"
      }
    },
    {
      "cell_type": "code",
      "source": [
        "!pip install --upgrade matplotlib\n"
      ],
      "metadata": {
        "id": "p5Br2vhjAYWt"
      },
      "execution_count": null,
      "outputs": []
    },
    {
      "cell_type": "code",
      "source": [
        "import numpy as np\n",
        "from matplotlib import pyplot as plt\n",
        "from skimage import io, restoration\n",
        "from skimage.filters.rank import entropy\n",
        "from skimage.filters import try_all_threshold\n",
        "from skimage.morphology import disk # the amount of disorder in you data: quantifiying disorders\n",
        "# texture detection\n",
        "image= io.imread(\"/content/drive/MyDrive/Colab Notebooks/training_image/heal_cell.jpg\", as_gray=True)\n",
        "entr_img = entropy(image, disk(10))\n",
        "plt.imshow(entr_img, cmap=\"gray\")\n",
        "fig, (ax0, ax1) = plt.subplots(ncols=2, figsize=(12, 4),\n",
        "                               sharex=True, sharey=True)\n",
        "img0 = ax0.imshow(image, cmap=plt.cm.gray)\n",
        "ax0.set_title(\"Image\")\n",
        "ax0.axis(\"off\")\n",
        "fig.colorbar(img0, ax=ax0)\n",
        "\n",
        "img1 = ax1.imshow(entropy(image, disk(5)), cmap='gray')\n",
        "ax1.set_title(\"Entropy\")\n",
        "ax1.axis(\"off\")\n",
        "fig.colorbar(img1, ax=ax1)\n",
        "\n",
        "fig.tight_layout()\n",
        "\n",
        "plt.show()\n",
        "plt.show()\n",
        "# applying threshold to seg ment two regions\n",
        "\n"
      ],
      "metadata": {
        "id": "cdQ3G5SJ62cK"
      },
      "execution_count": null,
      "outputs": []
    }
  ]
}